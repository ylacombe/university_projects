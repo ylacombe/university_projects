{
 "cells": [
  {
   "cell_type": "markdown",
   "metadata": {},
   "source": [
    "# TP Séparateurs à Vaste Marge - Yoach Lacombe et Wassim Lakehal\n",
    "\n",
    "Tout d'abord, importons les bibliothèques et la fonction utilisée dans le TP :"
   ]
  },
  {
   "cell_type": "code",
   "execution_count": 1,
   "metadata": {},
   "outputs": [],
   "source": [
    "import numpy as np\n",
    "import numpy as np\n",
    "import matplotlib.pyplot as plt\n",
    "import scipy.optimize\n",
    "import scipy.sparse\n",
    "import scipy.sparse.linalg\n",
    "from time import time\n",
    "\n",
    "def load_breastcancer(filename):\n",
    "    \"\"\"\n",
    "    Cette fonction lit le fichier filename, par exemple\n",
    "    filename = 'wdbc_M1_B0.data'\n",
    "    Elle retourne \n",
    "    X : une matrice de caracteristiques\n",
    "    y : un vecteur des classes tel que si y[i] = 1, la tumeur est maligne\n",
    "        et si y[i] = -1, la tumeur est benigne\n",
    "\n",
    "    Pour plus d'infos sur la base de donnees,\n",
    "    https://archive.ics.uci.edu/ml/datasets/Breast+Cancer+Wisconsin+%28Prognostic%29\n",
    "    \"\"\"\n",
    "\n",
    "    data = np.loadtxt(filename, delimiter=',')\n",
    "\n",
    "    # la colonne 0 ne nous interesse pas ici\n",
    "    y = data[:, 1] * 2 - 1\n",
    "    X = data[:, 2:]\n",
    "\n",
    "    # Standardisation de la matrice\n",
    "    X = X - np.mean(X, axis=0)\n",
    "    X = X / np.std(X, axis=0)\n",
    "\n",
    "    return X, y\n",
    "\n",
    "X_tilda,Y = load_breastcancer(\"wdbcM1B0.data\")"
   ]
  },
  {
   "cell_type": "markdown",
   "metadata": {},
   "source": [
    "## Question 2.1\n",
    "Posons : $$ f(v,a,\\xi) = \\frac{1}{2}\\sum\\limits_{i=0}^mv_j^2 + c\\sum\\limits_{i=0}^n\\xi_i $$\n",
    "Et posons : $$ g(v,a) = \\frac{1}{2}\\sum\\limits_{i=0}^m v_j^2 +c\\sum\\limits_{i=0}^n max(0,1 - y_i(x_i^Tv+a))$$\n",
    "\n",
    "\n",
    "\n",
    "**Etape 1 :** \n",
    "Remarquons qu'avec $\\xi_i = max(0,1 - y_i(x_i^Tv+a))$, les $\\xi_i$ vérifient les contraintes : \n",
    "$ \\forall i \\in \\{1,...,n\\}$\n",
    ", $\\xi_i \\geq 0$ et  $\\xi_i \\geq 1 - y_i(x_i^Tv+a))$.\n",
    "\n",
    "Donc on a bien en notant $min_1$ le minimum du problème (1) et $min_2$ le minimum du problème (2) :\n",
    "$$\\forall(v,a),~~g(v,a) \\geq min_1$$\n",
    "Donc que : $ min_2 \\geq min_1 $.\n",
    "\n",
    "**Etape 2 :**\n",
    "Remarquons maintenant que, par propriété du minimum : \n",
    "$$ \\forall(v,a,\\xi),~ f(v,a,\\xi) \\geq min_{\\xi}f(v,a,\\xi)$$\n",
    "Donc, on a : \n",
    "$$ min_1 = min_{v,a,\\xi}f(v,a,\\xi) \\geq min_{v,a}[min_\\xi f(v,a,\\xi)]$$\n",
    "Or : $$min_\\xi f(v,a,\\xi) = g(v,a)$$\n",
    "En effet, on remarque que pour i donné, $\\xi \\geq min_\\xi \\xi$ et ici ce minimum est atteint en la borne inférieure de la définition de $\\xi$, c'est-à-dire en $max(0,1 - y_i(x_i^Tv+a)))$.\n",
    "\n",
    "En conclusion : $$min_1 \\geq min_{v,a}[g(v,a)] = min_2$$\n",
    "\n",
    "\n",
    "## Question 2.2\n",
    "\n",
    "Le résultat est direct pour tous points différents de $0$. En effet, la fonction est dérivable en tout point différent de 0 et donc le sous-gradient coïncide avec son gradient. Pour $z<0$, il n'y a donc que $\\{-1\\}$ et pour $z>0$, il n'y a que $\\{0\\}$ \n",
    "\n",
    "On représente (en vert) la courbe $y = max(0, 1-x)$ :"
   ]
  },
  {
   "cell_type": "code",
   "execution_count": 2,
   "metadata": {},
   "outputs": [
    {
     "data": {
      "text/plain": [
       "<matplotlib.legend.Legend at 0x7f04fe9436a0>"
      ]
     },
     "execution_count": 2,
     "metadata": {},
     "output_type": "execute_result"
    },
    {
     "data": {
      "image/png": "[encoded data removed]",
      "text/plain": [
       "<Figure size 432x288 with 1 Axes>"
      ]
     },
     "metadata": {
      "needs_background": "light"
     },
     "output_type": "display_data"
    }
   ],
   "source": [
    "def h(z):\n",
    "    return max(0,1-z)\n",
    "\n",
    "np.linspace(-5,5, 10)\n",
    "x = np.array([-5,1])\n",
    "x_bar = np.array([1,5])\n",
    "x_tot = np.array([-5,5])\n",
    "\n",
    "plt.plot(x, 1 - x, color = 'green', label = 'h(z) = 1-z')\n",
    "plt.plot(x_bar, [0,0], color = 'green')\n",
    "plt.plot([1, 5], [0, -4] , color = 'red', linestyle='dotted', label = 'min(1-z, z)')\n",
    "plt.plot([-5,1], [0,0] , color = 'red', linestyle='dotted')\n",
    "plt.plot(x_tot, 0.5*(1-x_tot), color = 'blue', linestyle='dotted', label = '0.5(1-z)')\n",
    "plt.plot(x_tot, 0.8*(1-x_tot), color = 'blue', linestyle='dotted', label = '0.8(1-z)')\n",
    "plt.plot(x_tot, 0.2*(1-x_tot), color = 'blue', linestyle='dotted', label = '0.2(1-z)')\n",
    "plt.title(\"Fonction h\")\n",
    "plt.legend()"
   ]
  },
  {
   "cell_type": "markdown",
   "metadata": {},
   "source": [
    "En $0$, on voit que pour toutes les droites de pente entre $-1$ et $0$ (les courbes bleues) se trouvent en dessous de la courbe verte donc le sous-gradient vaut en $0$ : $[-1, 0 ]$\n",
    "\n",
    "## Question 2.3\n",
    "On renomme notre précédente fonction g en f.\n",
    "    Avec $M = \\left( \\begin{array}{c}\n",
    "y_1x_1^T ~~~ y_1\\\\\n",
    "\\vdots \\\\\n",
    "y_ix_i^T ~~~ y_i  \\\\\n",
    "\\vdots \\\\\n",
    "y_nx_n^T ~~~ y_n\n",
    "\\end{array} \\right), ~~ N(v,a) = \\frac{1}{2}\\sum\\limits_{i=0}^mv_j^2~~ $et $ ~~ H(x) = \\sum\\limits_{i=0}^n h(x_i)$, on a bien ce que demande l'énoncé.\n",
    "\n",
    "De plus, on se convaint facilement que :\n",
    "$$ \\partial N(v,a) = \\left( \\begin{array}{c}\n",
    "v\\\\\n",
    "0\n",
    "\\end{array} \\right) $$\n",
    "En remarquant que H est séparable :\n",
    "$$ \\partial H(x) = \\partial h(x_1) \\times ... \\times \\partial h(x_n)$$\n",
    "\n",
    "\n",
    "## Question 2.4\n"
   ]
  },
  {
   "cell_type": "code",
   "execution_count": 3,
   "metadata": {},
   "outputs": [],
   "source": [
    "##Rajoutons une colonne de 1 \n",
    "\n",
    "X = np.c_[X_tilda,np.ones((X_tilda.shape[0],1))]\n",
    "n,m = X.shape\n",
    "\n",
    "#Construction de M\n",
    "M = np.array([Y[i]*X[i,:] for i in range(n)])\n",
    "\n",
    "\n",
    "def fAndSubgrad(v,a):\n",
    "    N = M@((np.append(v,a)))\n",
    "    \n",
    "    h_ = [h(N[z]) for z in range(N.shape[0])]\n",
    "    \n",
    "    subgrad = np.append(v,0) + M.T@(subgrad_h(N))\n",
    "    value = v.T@v/2 + np.sum(h_)\n",
    "    \n",
    "    return value,subgrad\n",
    "\n",
    "\n",
    "def subgrad_h(x):\n",
    "    return -(x<=1).astype(int)"
   ]
  },
  {
   "cell_type": "code",
   "execution_count": 4,
   "metadata": {},
   "outputs": [],
   "source": [
    "value, subgrad_value = fAndSubgrad(np.ones((m-1,1)), 5 )"
   ]
  },
  {
   "cell_type": "code",
   "execution_count": 5,
   "metadata": {},
   "outputs": [],
   "source": [
    "def subgradientMethod(v_0,a_0,nb_iter):\n",
    "    v_k = v_0[:,0]\n",
    "    a_k = a_0\n",
    "    func_values = []\n",
    "    for k in range(nb_iter):\n",
    "\n",
    "        func_value, sub = fAndSubgrad(v_k,a_k)\n",
    "\n",
    "        v_k = v_k[:m-1] -sub[:m-1]/(k+1)\n",
    "        a_k = a_k -sub[-1]/(k+1)\n",
    "        func_values += [func_value]\n",
    "    return func_value\n",
    "        "
   ]
  },
  {
   "cell_type": "code",
   "execution_count": 6,
   "metadata": {
    "scrolled": false
   },
   "outputs": [
    {
     "name": "stdout",
     "output_type": "stream",
     "text": [
      "Valeur : 26.570582119490382\n",
      "Temps d'exécution : 19.61750316619873\n"
     ]
    }
   ],
   "source": [
    "debut = time()\n",
    "print(\"Valeur :\", subgradientMethod(np.zeros((m-1,1)), 0,10000))\n",
    "print(\"Temps d'exécution :\", time()-debut)"
   ]
  },
  {
   "cell_type": "markdown",
   "metadata": {},
   "source": [
    "## Question 3.1\n",
    "\n",
    "Par la formule de transfert :\n",
    "$$ \\mathbb{E}[f_I(v,a)] = \\sum\\limits_{i=1}^n P(I=i)f_i(v,a) = \\frac{1}{n}\\sum\\limits_{i=1}^n f_i(v,a) = \\frac{1}{2}\\sum\\limits_{i=1}^m v_j^2 +\\frac{1}{n}cn\\sum\\limits_{i=1}^n max(0,1 - y_i(x_i^Tv+a)) = f(v,a) $$\n",
    "\n",
    "## Question 3.2\n",
    "\n",
    "Cette fois-ci, nous pouvons poser $M_i = \\left( \\begin{array}{c}\n",
    "0\\\\\n",
    "\\vdots \\\\\n",
    "(y_ix_i^T ~~~ y_i)  \\\\\n",
    "\\vdots \\\\\n",
    "0\n",
    "\\end{array} \\right)$ à la place de la matrice M et c$*$n à la place de c dans la formule du sous-gradient. D'où :\n",
    "$$ \\partial f_i(v,a) =  \\left( \\begin{array}{c}\n",
    "v\\\\\n",
    "0\n",
    "\\end{array} \\right)  + cnM_i^T \\partial H(M_i\\left( \\begin{array}{c}\n",
    "v\\\\\n",
    "a\n",
    "\\end{array} \\right)) \n",
    "= \\left( \\begin{array}{c}\n",
    "v\\\\\n",
    "0\n",
    "\\end{array} \\right)  + cnM_i^T \\partial H\\left( \\begin{array}{c}\n",
    "0\\\\\n",
    "\\vdots \\\\\n",
    "(y_ix_i^Tv + y_ia)  \\\\\n",
    "\\vdots \\\\\n",
    "0\n",
    "\\end{array} \\right)\n",
    "=\n",
    "\\left( \\begin{array}{c}\n",
    "v\\\\\n",
    "0\n",
    "\\end{array} \\right)  + cnM_i^T \\left( \\begin{array}{c}\n",
    "-1\\\\\n",
    "\\vdots \\\\\n",
    "\\partial h(y_ix_i^Tv + y_ia)  \\\\\n",
    "\\vdots \\\\\n",
    "-1\n",
    "\\end{array} \\right) $$\n",
    "$$\n",
    "=\n",
    "\\left( \\begin{array}{c}\n",
    "v\\\\\n",
    "0\n",
    "\\end{array} \\right)  + cny_i \\partial h(y_ix_i^Tv + y_ia) \\left( \\begin{array}{c}\n",
    "x_i\\\\\n",
    "1\n",
    "\\end{array} \\right)\n",
    "$$\n",
    "\n",
    "## Question 3.3\n",
    "\n",
    "Pour coder cette algorithme, nous allons tirer à chaque étape un $i_k$ et prendre $x_{k+1} = x_k - \\gamma_k g_k$ où $g_k \\in \\partial f_{i_k}(x_k)$."
   ]
  },
  {
   "cell_type": "code",
   "execution_count": 7,
   "metadata": {},
   "outputs": [],
   "source": [
    "from random import randint\n",
    "\n",
    "def stochasticSubgradientMethod(v_0,a_0,nb_iter):\n",
    "    v_k = v_0[:,0]\n",
    "    a_k = a_0\n",
    "    func_values = []\n",
    "    total_step = 0\n",
    "    weighted_value_v = 0\n",
    "    weighted_value_a = 0\n",
    "    \n",
    "    for k in range(nb_iter):\n",
    "        #TIRER i dans {1,...,n}\n",
    "        i = randint(0,n-1)\n",
    "        func_value, sub = f_i_and_subgrad(v_k,a_k,i)\n",
    "        \n",
    "        step = (5*10**(-4))/np.sqrt(k+1)\n",
    "        \n",
    "        total_step += step\n",
    "        weighted_value_v += v_k*step\n",
    "        weighted_value_a += a_k*step\n",
    "        \n",
    "        \n",
    "        v_k = v_k[:m-1] -sub[:m-1]*step\n",
    "        \n",
    "        \n",
    "        a_k = a_k -sub[-1]*step\n",
    "        \n",
    "        func_values += [func_value]\n",
    "    \n",
    "    f_value,_ = fAndSubgrad(weighted_value_v/total_step , weighted_value_a/total_step)\n",
    "\n",
    "    return f_value\n",
    "\n",
    "\n",
    "def f_i_and_subgrad(v,a,i):\n",
    "    \n",
    "    subgrad = np.append(v,0) + n*Y[i]*subgrad_h(Y[i]*(X_tilda[i,:]@v + a))*np.append(X_tilda[i,:],1)\n",
    "    \n",
    "    value = v.T@v/2 + n * h(Y[i]*(X_tilda[i,:]@v + a))\n",
    "    \n",
    "    return value,subgrad"
   ]
  },
  {
   "cell_type": "code",
   "execution_count": 8,
   "metadata": {},
   "outputs": [
    {
     "name": "stdout",
     "output_type": "stream",
     "text": [
      "Valeur : 36.908097636012165\n",
      "Temps d'exécution : 0.46237707138061523\n"
     ]
    }
   ],
   "source": [
    "debut = time()\n",
    "print(\"Valeur :\", stochasticSubgradientMethod(np.zeros((m-1,1)), 0,10000))\n",
    "print(\"Temps d'exécution :\", time()-debut)"
   ]
  },
  {
   "cell_type": "markdown",
   "metadata": {},
   "source": [
    "## Question 4.1\n",
    "\n",
    "Avec $\\phi \\in \\textbf{R}^{2n}$ :\n",
    "$$ L(v,\\xi, \\phi) = \\frac{1}{2}\\sum\\limits_{i=0}^mv_j^2 + c\\sum\\limits_{i=0}^n\\xi_i + \\sum\\limits_{i=0}^n[ -\\xi_i\\phi_i +\\phi_{i+n}(1 - y_{i+n}(x_{i+n}^Tv+a) - \\xi_{i+n})] - \\sum\\limits_{i=0}^{2n} \\iota_{\\textbf{R}_+}(\\phi_i) $$\n",
    "\n",
    "## Question 4.2\n",
    "\n",
    "Remarquons que \"$ x : \\mapsto max(0,x)^2$\" est une fonction continuement dérivable en 0 (on prolonge la dérivé par continuité en 0), de dérivée : \"$ x : \\mapsto 2max(0,x)$\".\n",
    "\n",
    "Ainsi, par dérivées de fonctions composées :\n",
    "$$ \\nabla_xg(x,\\phi) = \\rho max(0,x + \\rho^{-1}\\phi)$$\n",
    "Et : \n",
    "$$ \\nabla_{\\phi}g(x,\\phi) = -\\rho^{-1}\\phi + \\frac{\\rho}{\\rho} max(0,x + \\rho^{-1}\\phi) = max(-\\rho^{-1}\\phi,x )$$\n",
    "\n",
    "## Question 4.3\n",
    "$ x \\mapsto \\nabla_xg(x,\\phi) $ est donc croissante sur l'ensemble des réels, on a donc la convexité de $x \\mapsto g(x,\\phi)$.\n",
    "\n",
    "De plus, $ \\phi \\mapsto \\nabla_xg(x,\\phi) $ est décroissante sur l'ensemble des réels, on a donc la concavité de $\\phi \\mapsto g(x,\\phi)$.\n",
    "\n",
    "## Question 4.4\n",
    "\n",
    "On calcule d'abord les gradients de la Lagrangienne par rapport à v,a et $\\xi$:\n",
    "$$ \\nabla_vL(v,a,\\xi,\\phi,\\psi) = v - \\sum\\limits_{i=1}^n y_ix_i \\rho max(0, -\\xi_i + 1 - y_{i}(x_{i}^Tv+a) + \\phi_i\\rho^{-1})$$ \n",
    "$$ \\nabla_aL(v,a,\\xi,\\phi,\\psi) = - \\sum\\limits_{i=1}^n y_i \\rho max(0, -\\xi_i + 1 - y_{i}(x_{i}^Tv+a) + \\phi_i\\rho^{-1})$$ \n",
    "$$ \\nabla_{\\xi}L(v,a,\\xi,\\phi,\\psi) = c - (\\rho max(0, \\rho^{-1}\\phi_i - \\xi_i))_i- ( \\rho max(0, -\\xi_i + 1 - y_{i}(x_{i}^Tv+a) + \\phi_i\\rho^{-1}))_i$$ \n",
    "\n",
    "D'où la méthode du gradient, ci-dessous :"
   ]
  },
  {
   "cell_type": "code",
   "execution_count": 9,
   "metadata": {},
   "outputs": [],
   "source": [
    "def grad_x_g(x,phi,rho):\n",
    "    return rho * np.maximum(0, x + phi/rho)\n",
    "\n",
    "\n",
    "def gradient_lagrangien(phi,psi,condition_arret,rho):\n",
    "    v,a,xi = np.zeros(m-1),condition_arret + 1 , np.zeros(n)\n",
    "    \n",
    "    N = 1 - M@((np.append(v,a)))\n",
    "\n",
    "\n",
    "    grad_v = v - (M.T@grad_x_g(N-xi,phi,rho))[:-1]\n",
    "    grad_a = - Y.T@grad_x_g(N-xi,phi,rho)     \n",
    "    grad_xi = 1 - grad_x_g(-xi,phi,rho) - grad_x_g(N-xi,phi,rho)\n",
    "\n",
    "    norm = grad_a**2 + np.sum(grad_v**2) + np.sum(grad_xi**2)\n",
    "    k=1\n",
    "    while (norm > condition_arret**2):\n",
    "        grad_v = v - (M.T@grad_x_g(N-xi,phi,rho))[:-1]\n",
    "        grad_a = - Y.T@grad_x_g(N-xi,phi,rho)     \n",
    "        grad_xi = 1 - grad_x_g(-xi,phi,rho) - grad_x_g(N-xi,phi,rho)\n",
    "         \n",
    "        norm = grad_a**2 + np.sum(grad_v**2) + np.sum(grad_xi**2)\n",
    "        v = v - grad_v/750     \n",
    "        a = a - grad_a/750         \n",
    "        xi = xi - grad_xi/750\n",
    "        N = 1- M@((np.append(v,a)))\n",
    "\n",
    "        k+=1\n",
    "            \n",
    "    return v,a,xi"
   ]
  },
  {
   "cell_type": "markdown",
   "metadata": {},
   "source": [
    "## Question 4.5\n",
    "\n",
    "\n",
    "$$ \\nabla_{\\phi}L(v,a,\\xi,\\phi,\\psi) = (max( - \\frac{\\phi_i}{\\rho}, -\\xi_i))$$ \n",
    "$$ \\nabla_{\\psi}L(v,a,\\xi,\\phi,\\psi) = (max( - \\frac{\\psi_i}{\\rho}, -\\xi_i + 1 - y_{i}(x_{i}^Tv+a)))$$ "
   ]
  },
  {
   "cell_type": "code",
   "execution_count": 10,
   "metadata": {},
   "outputs": [],
   "source": [
    "def grad_phi_g(x,phi,rho):\n",
    "    return np.maximum(-phi/rho, x)\n",
    "\n",
    "def grad_phi_psi(v,a,xi,phi,psi,rho):\n",
    "    N = M@((np.append(v,a)))\n",
    "    \n",
    "    \n",
    "    grad_phi = grad_phi_g(-xi,phi,rho)\n",
    "    \n",
    "    grad_psi = grad_phi_g(-xi + 1- N ,psi,rho)\n",
    "    \n",
    "    return grad_phi, grad_psi"
   ]
  },
  {
   "cell_type": "markdown",
   "metadata": {},
   "source": [
    "## Question 4.6"
   ]
  },
  {
   "cell_type": "code",
   "execution_count": 11,
   "metadata": {},
   "outputs": [],
   "source": [
    "def ALM(phi0, psi0, condition_arret = 1, rho = 2, nb_iterations  = 2000):\n",
    "    \n",
    "    phi,psi = phi0,psi0\n",
    "    \n",
    "    for k in range(nb_iterations):\n",
    "        v,a,xi = gradient_lagrangien(phi,psi,condition_arret, condition_arret)\n",
    "        \n",
    "        grad_phi, grad_psi = grad_phi_psi(v,a,xi,phi,psi,rho)\n",
    "        phi += rho*grad_phi\n",
    "        psi += rho*grad_psi\n",
    "    \n",
    "    return v,a,xi"
   ]
  },
  {
   "cell_type": "code",
   "execution_count": 12,
   "metadata": {},
   "outputs": [
    {
     "name": "stdout",
     "output_type": "stream",
     "text": [
      "Temps d'exécution : 629.9421944618225\n"
     ]
    }
   ],
   "source": [
    "debut = time()\n",
    "test_v,test_a,test_xi = ALM(np.zeros(n),np.zeros(n))\n",
    "print(\"Temps d'exécution :\", time()-debut)"
   ]
  },
  {
   "cell_type": "code",
   "execution_count": 13,
   "metadata": {},
   "outputs": [
    {
     "data": {
      "text/plain": [
       "11.162495675697487"
      ]
     },
     "execution_count": 13,
     "metadata": {},
     "output_type": "execute_result"
    }
   ],
   "source": [
    "test_v.T@test_v/2  + np.sum(test_xi)"
   ]
  },
  {
   "cell_type": "code",
   "execution_count": 14,
   "metadata": {},
   "outputs": [
    {
     "data": {
      "text/plain": [
       "(28.464571080831973,\n",
       " array([ 1.16933323,  1.26088753,  1.00518502,  1.2923403 , -0.54094765,\n",
       "        -2.08829148, -1.55803491,  0.078724  ,  0.43130691, -2.73454178,\n",
       "         3.48912349,  1.81649251,  3.3597331 ,  2.18732888, -1.24417101,\n",
       "        -2.42963447, -3.05643706,  0.01012139, -1.02500591, -1.18282814,\n",
       "         1.21371166, -0.00575283,  1.14693168,  1.16920323, -3.80617076,\n",
       "        -3.28203098, -3.97157108, -1.18369923, -1.62633202, -3.7666303 ,\n",
       "        -2.        ]))"
      ]
     },
     "execution_count": 14,
     "metadata": {},
     "output_type": "execute_result"
    }
   ],
   "source": [
    "fAndSubgrad(test_v,test_a)"
   ]
  },
  {
   "cell_type": "markdown",
   "metadata": {},
   "source": [
    "## Question 5.1\n",
    "\n",
    "Comparons finalement les résultats :\n",
    "\n",
    "Tout d'abord, nous pouvons entrer dans le tableau suivant le temps d'exécution et la valeur finale que renvoie chaque algorithme :\n",
    "\n",
    "|  | Méthode du sous-gradient classique |  Méthode du sous-gradient stochastique  | Méthode du lagrangien augmenté  |   |\n",
    "|---|---|---|:-:|---|\n",
    "| Résultat final  | 26.570582119490382 | 36.908097636012165 | 28.464571080831973   |   |\n",
    "| Temps d'exéution  | 19.61750316619873 | 0.46237707138061523 | 629.9421944618225 |   |\n",
    "\n",
    "Il semblerait que la méthode du lagrangien augmenté n'est pas la meilleure méthode car elle ne produit ni le résultat le plus rapide, ni le meilleur résultat.\n",
    "\n",
    "En revanche, la méthode du sous-gradient stochastique renvoie un résultat aléatoire à chaque itération et celui-ci (bien qu'il soit rapide) n'est pas meilleur en moyenne que celui fournit par la méthode du sous-gradient classique. En effet, en effectuant $10^6$ itérations du sous-gradient stochastique, le résultat final tourne en moyenne autour de $27$ mais prend $44$ secondes. Ainsi, dans ce cas, l'algorithme de la méthode du sous-gradient stochastiqu efournit un moins bon résultat que la méthode du sous-gradient classique en plus de temps. L'algorithme du sous-gradient stochastique pourrait probablement être amélioré en prenant un sous ensemble de $f_i$ plutot qu'une seule valeur.\n",
    "\n",
    "En définitive, il apparaît que la meilleure fonction à utiliser est la première."
   ]
  }
 ],
 "metadata": {
  "kernelspec": {
   "display_name": "Python 3",
   "language": "python",
   "name": "python3"
  },
  "language_info": {
   "codemirror_mode": {
    "name": "ipython",
    "version": 3
   },
   "file_extension": ".py",
   "mimetype": "text/x-python",
   "name": "python",
   "nbconvert_exporter": "python",
   "pygments_lexer": "ipython3",
   "version": "3.7.3"
  }
 },
 "nbformat": 4,
 "nbformat_minor": 2
}
